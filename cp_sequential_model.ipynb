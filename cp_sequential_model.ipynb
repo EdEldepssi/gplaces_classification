{
 "cells": [
  {
   "cell_type": "code",
   "execution_count": 54,
   "id": "5227634c-7a38-4aeb-a38e-84268ead8cde",
   "metadata": {},
   "outputs": [],
   "source": [
    "import numpy as np\n",
    "import matplotlib.pyplot as plt\n",
    "from keras.layers import Dense, Conv2D, MaxPool2D, Dropout, Flatten\n",
    "from keras.models import Sequential\n",
    "from keras.preprocessing.image import ImageDataGenerator\n",
    "from tensorflow.keras.models import Sequential\n",
    "from tensorflow.keras.layers import Dense, Dropout, Flatten, Conv2D, MaxPooling2D\n",
    "from tensorflow.keras.datasets import mnist\n",
    "from tensorflow.keras.utils import to_categorical\n",
    "from tensorflow.keras import utils\n",
    "from tensorflow.keras.preprocessing import image\n",
    "from tensorflow.keras.applications.resnet50 import preprocess_input\n",
    "from sklearn.model_selection import train_test_split\n",
    "from keras.layers import Input, Flatten, Dense\n",
    "from keras.models import Model\n",
    "from tensorflow.keras.optimizers import Adam\n",
    "import os\n",
    "from tensorflow.keras.models import load_model\n",
    "from sklearn.metrics import classification_report"
   ]
  },
  {
   "cell_type": "code",
   "execution_count": 26,
   "id": "a82040f8-3e8c-4e75-84d1-8830facf7079",
   "metadata": {},
   "outputs": [],
   "source": [
    "# Function for plotting model loss\n",
    "def plot_loss(history):\n",
    "    train_loss = history.history['loss']\n",
    "    test_loss = history.history['val_loss']\n",
    "\n",
    "    # Set figure size\n",
    "    plt.figure(figsize=(12, 8))\n",
    "\n",
    "    # Generate line plot of training, testing loss over epochs\n",
    "    plt.plot(train_loss, label='Training Loss', color='#185fad')\n",
    "    plt.plot(test_loss, label='Testing Loss', color='orange')\n",
    "\n",
    "    # Set title\n",
    "    plt.title('Training and Testing Loss by Epoch', fontsize = 25)\n",
    "    plt.xlabel('Epoch', fontsize = 18)\n",
    "    plt.ylabel('Categorical Crossentropy', fontsize = 18)\n",
    "    plt.xticks(np.arange(10), np.arange(10))\n",
    "\n",
    "    plt.legend(fontsize = 18);"
   ]
  },
  {
   "cell_type": "markdown",
   "id": "d405a599-0d1e-4383-a234-8765220e6d0e",
   "metadata": {},
   "source": [
    "### Reference:\n",
    "- https://git.generalassemb.ly/dsi-delta/56-cnns/blob/main/workbook-in-class.ipynb"
   ]
  },
  {
   "cell_type": "code",
   "execution_count": 2,
   "id": "99c9c262-4a2f-4987-a829-64090a7feab4",
   "metadata": {},
   "outputs": [],
   "source": [
    "# getting cwd with os, use if needed:\n",
    "# path = os.getcwd()"
   ]
  },
  {
   "cell_type": "code",
   "execution_count": 3,
   "id": "0c2bab30-7269-4e11-bf56-ff44b21aaf50",
   "metadata": {},
   "outputs": [],
   "source": [
    "data_path = './training'\n",
    "data_dir = os.listdir(data_path)"
   ]
  },
  {
   "cell_type": "code",
   "execution_count": 4,
   "id": "f71c633c-ff16-4376-8cd5-13e3f559811a",
   "metadata": {},
   "outputs": [],
   "source": [
    "# removing .DS_Store\n",
    "data_dir.remove('.DS_Store')"
   ]
  },
  {
   "cell_type": "code",
   "execution_count": 5,
   "id": "ec7675ba-c449-459a-9c6a-3324442a7092",
   "metadata": {},
   "outputs": [
    {
     "name": "stdout",
     "output_type": "stream",
     "text": [
      "Loading images of drinks\n",
      "Loading images of ads\n"
     ]
    },
    {
     "name": "stderr",
     "output_type": "stream",
     "text": [
      "/opt/anaconda3/lib/python3.9/site-packages/PIL/Image.py:959: UserWarning: Palette images with Transparency expressed in bytes should be converted to RGBA images\n",
      "  warnings.warn(\n"
     ]
    },
    {
     "name": "stdout",
     "output_type": "stream",
     "text": [
      "Loading images of vegetarian\n",
      "Loading images of diserts\n",
      "Loading images of places\n",
      "Loading images of clutter\n",
      "Loading images of non_vegetarian\n"
     ]
    }
   ],
   "source": [
    "# Importing all images and labels for training:\n",
    "\n",
    "img_data_list = []\n",
    "labels = []\n",
    "\n",
    "for data in data_dir:\n",
    "    img_list = os.listdir(data_path+'/'+data)\n",
    "    print('Loading images of', data)\n",
    "    for img in img_list:\n",
    "        img_path = data_path +'/'+ data + '/' + img\n",
    "        try:\n",
    "            img = image.load_img(img_path, target_size= (28,28))\n",
    "            x = image.img_to_array(img)\n",
    "            x = preprocess_input(x)\n",
    "            img_data_list.append(x)\n",
    "            labels.append(data)\n",
    "        except:\n",
    "            continue"
   ]
  },
  {
   "cell_type": "code",
   "execution_count": 6,
   "id": "307dd416-d13c-4ac2-aea4-74ed7c7a5015",
   "metadata": {},
   "outputs": [],
   "source": [
    "# Converting images into a numpy array:\n",
    "img_data = np.array(img_data_list)"
   ]
  },
  {
   "cell_type": "code",
   "execution_count": 7,
   "id": "0cfd5218-83e4-4d34-bbec-365205860563",
   "metadata": {},
   "outputs": [],
   "source": [
    "np.save('./data/train_sq_data.npy', img_data)"
   ]
  },
  {
   "cell_type": "code",
   "execution_count": 8,
   "id": "c08c0e0e-c24b-4cba-bff2-e027a04819a5",
   "metadata": {},
   "outputs": [],
   "source": [
    "np.save('./data/train_sq_labels.npy', labels)"
   ]
  },
  {
   "cell_type": "code",
   "execution_count": 9,
   "id": "4cde3578-4a59-466a-9303-b2b39baf5540",
   "metadata": {},
   "outputs": [],
   "source": [
    "img_data = np.load('./data/train_sq_data.npy')\n",
    "labels = np.load('./data/train_sq_labels.npy')"
   ]
  },
  {
   "cell_type": "code",
   "execution_count": 10,
   "id": "fde7d25b-93e6-44f7-bef5-797da7e5fd10",
   "metadata": {},
   "outputs": [],
   "source": [
    "# Use if needed\n",
    "# num_class = 3\n",
    "# num_of_samples = img_data.shape[0]"
   ]
  },
  {
   "cell_type": "code",
   "execution_count": null,
   "id": "2bda0407-beb2-4515-88b6-94cb1c5fe6a9",
   "metadata": {},
   "outputs": [],
   "source": []
  },
  {
   "cell_type": "code",
   "execution_count": 11,
   "id": "39c10ab5-c0c5-4a19-a2c5-164f5e9c7cae",
   "metadata": {},
   "outputs": [],
   "source": [
    "# converting labels into numerical values:\n",
    "\n",
    "numerical_labels = []\n",
    "for each in labels:\n",
    "    if each == 'vegetarian':\n",
    "        numerical_labels.append(0)\n",
    "    elif each == 'non_vegetarian':\n",
    "        numerical_labels.append(1)\n",
    "    elif each == 'places':\n",
    "        numerical_labels.append(2)\n",
    "    elif each == 'diserts':\n",
    "        numerical_labels.append(3)\n",
    "    elif each == 'drinks':\n",
    "        numerical_labels.append(4)\n",
    "    elif each == 'clutter':\n",
    "        numerical_labels.append(5)\n",
    "    elif each == 'ads':\n",
    "        numerical_labels.append(6)"
   ]
  },
  {
   "cell_type": "code",
   "execution_count": 12,
   "id": "6ace8346-0fe6-4fbd-aca4-f42d418c0fb4",
   "metadata": {},
   "outputs": [],
   "source": [
    "numerical_labels= np.array(numerical_labels)"
   ]
  },
  {
   "cell_type": "markdown",
   "id": "f9484486-ea8e-4e24-828d-0a856bde2ff4",
   "metadata": {},
   "source": [
    "# Train Test Split:"
   ]
  },
  {
   "cell_type": "code",
   "execution_count": 13,
   "id": "913fab5d-82a2-46cd-9f46-c63debfb754d",
   "metadata": {},
   "outputs": [],
   "source": [
    "x = img_data"
   ]
  },
  {
   "cell_type": "code",
   "execution_count": 15,
   "id": "b1446984-4151-455e-b5f9-6b9b28734c32",
   "metadata": {},
   "outputs": [],
   "source": [
    "y = utils.to_categorical(numerical_labels, num_classes=7)"
   ]
  },
  {
   "cell_type": "code",
   "execution_count": 16,
   "id": "0f869a89-a82c-4ae9-a019-06c0097a5a81",
   "metadata": {},
   "outputs": [],
   "source": [
    "X_train, X_test, y_train, y_test = train_test_split(x,y, test_size=0.2, random_state=42, shuffle=True)"
   ]
  },
  {
   "cell_type": "markdown",
   "id": "15f78f59-16cb-431d-a474-b5bcdd52244c",
   "metadata": {},
   "source": [
    "# Modeling :"
   ]
  },
  {
   "cell_type": "code",
   "execution_count": 25,
   "id": "7394136e-8bd8-4466-a690-64e04f75bd11",
   "metadata": {},
   "outputs": [
    {
     "name": "stdout",
     "output_type": "stream",
     "text": [
      "Epoch 1/20\n",
      "252/252 [==============================] - 2s 5ms/step - loss: 3.1841 - accuracy: 0.4275 - val_loss: 2.0728 - val_accuracy: 0.4587\n",
      "Epoch 2/20\n",
      "252/252 [==============================] - 1s 4ms/step - loss: 1.6517 - accuracy: 0.4946 - val_loss: 1.7549 - val_accuracy: 0.5016\n",
      "Epoch 3/20\n",
      "252/252 [==============================] - 1s 4ms/step - loss: 1.4709 - accuracy: 0.5395 - val_loss: 1.7172 - val_accuracy: 0.5206\n",
      "Epoch 4/20\n",
      "252/252 [==============================] - 1s 4ms/step - loss: 1.3293 - accuracy: 0.5729 - val_loss: 1.5528 - val_accuracy: 0.5270\n",
      "Epoch 5/20\n",
      "252/252 [==============================] - 1s 5ms/step - loss: 1.2112 - accuracy: 0.6103 - val_loss: 1.5544 - val_accuracy: 0.5651\n",
      "Epoch 6/20\n",
      "252/252 [==============================] - 1s 5ms/step - loss: 1.1269 - accuracy: 0.6365 - val_loss: 1.5046 - val_accuracy: 0.5714\n",
      "Epoch 7/20\n",
      "252/252 [==============================] - 1s 4ms/step - loss: 1.0186 - accuracy: 0.6655 - val_loss: 1.4654 - val_accuracy: 0.5698\n",
      "Epoch 8/20\n",
      "252/252 [==============================] - 1s 5ms/step - loss: 0.9487 - accuracy: 0.6841 - val_loss: 1.5030 - val_accuracy: 0.5667\n",
      "Epoch 9/20\n",
      "252/252 [==============================] - 1s 5ms/step - loss: 0.8831 - accuracy: 0.7072 - val_loss: 1.5014 - val_accuracy: 0.5937\n",
      "Epoch 10/20\n",
      "252/252 [==============================] - 1s 5ms/step - loss: 0.7955 - accuracy: 0.7279 - val_loss: 1.4421 - val_accuracy: 0.5841\n",
      "Epoch 11/20\n",
      "252/252 [==============================] - 1s 5ms/step - loss: 0.7509 - accuracy: 0.7370 - val_loss: 1.5053 - val_accuracy: 0.5841\n",
      "Epoch 12/20\n",
      "252/252 [==============================] - 1s 5ms/step - loss: 0.6961 - accuracy: 0.7652 - val_loss: 1.4088 - val_accuracy: 0.5984\n",
      "Epoch 13/20\n",
      "252/252 [==============================] - 1s 5ms/step - loss: 0.6317 - accuracy: 0.7803 - val_loss: 1.4920 - val_accuracy: 0.6111\n",
      "Epoch 14/20\n",
      "252/252 [==============================] - 1s 5ms/step - loss: 0.5777 - accuracy: 0.8045 - val_loss: 1.3970 - val_accuracy: 0.6175\n",
      "Epoch 15/20\n",
      "252/252 [==============================] - 1s 5ms/step - loss: 0.5233 - accuracy: 0.8164 - val_loss: 1.4754 - val_accuracy: 0.6175\n",
      "Epoch 16/20\n",
      "252/252 [==============================] - 1s 5ms/step - loss: 0.4802 - accuracy: 0.8300 - val_loss: 1.5020 - val_accuracy: 0.6111\n",
      "Epoch 17/20\n",
      "252/252 [==============================] - 1s 5ms/step - loss: 0.4415 - accuracy: 0.8510 - val_loss: 1.5052 - val_accuracy: 0.6111\n",
      "Epoch 18/20\n",
      "252/252 [==============================] - 1s 5ms/step - loss: 0.4053 - accuracy: 0.8645 - val_loss: 1.5717 - val_accuracy: 0.6317\n",
      "Epoch 19/20\n",
      "252/252 [==============================] - 1s 5ms/step - loss: 0.3723 - accuracy: 0.8729 - val_loss: 1.6216 - val_accuracy: 0.6175\n",
      "Epoch 20/20\n",
      "252/252 [==============================] - 1s 5ms/step - loss: 0.3323 - accuracy: 0.8907 - val_loss: 1.6635 - val_accuracy: 0.6048\n"
     ]
    }
   ],
   "source": [
    "# More Complexity!\n",
    "# Instantiate a CNN\n",
    "cnn_model_2 = Sequential()\n",
    "\n",
    "# Add a convolutional layer\n",
    "cnn_model_2.add(Conv2D(filters=16,             # number of filters\n",
    "                       kernel_size=(3,3),      # height/width of filter\n",
    "                       activation='relu',      # activation function \n",
    "                       input_shape=(28,28,3))) # shape of input (image)\n",
    "\n",
    "# Add a pooling layer\n",
    "cnn_model_2.add(MaxPooling2D(pool_size=(2,2))) # dimensions of region of pooling\n",
    "\n",
    "# Add another convolutional layer\n",
    "cnn_model_2.add(Conv2D(64,\n",
    "                       kernel_size=(3,3),\n",
    "                       activation='relu'))\n",
    "\n",
    "# Add another pooling layer\n",
    "cnn_model_2.add(MaxPooling2D(pool_size=(2,2)))\n",
    "\n",
    "# We have to remember to flatten to go from the \"box\" to the vertical line of nodes!\n",
    "cnn_model_2.add(Flatten())\n",
    "\n",
    "# Add a densely-connected layer with 64 neurons\n",
    "cnn_model_2.add(Dense(64, activation='relu'))\n",
    "\n",
    "# Add a densely-connected layer with 32 neurons\n",
    "cnn_model_2.add(Dense(32, activation='relu'))\n",
    "\n",
    "# Add a final layer with 3 neurons\n",
    "cnn_model_2.add(Dense(7, activation='softmax'))\n",
    "\n",
    "# Compile model\n",
    "cnn_model_2.compile(loss='categorical_crossentropy',\n",
    "                    optimizer=Adam(learning_rate=0.0001),\n",
    "                    metrics=['accuracy'])\n",
    "\n",
    "# Fit model on training data\n",
    "history = cnn_model_2.fit(X_train,\n",
    "                          y_train,\n",
    "                          batch_size=10,\n",
    "                          validation_data=(X_test, y_test),\n",
    "                          epochs=20,\n",
    "                          verbose=1)"
   ]
  },
  {
   "cell_type": "code",
   "execution_count": 28,
   "id": "f077ae4d-18bb-4feb-a2ba-40541349c58f",
   "metadata": {},
   "outputs": [
    {
     "data": {
      "image/png": "[encoded data removed]",
      "text/plain": [
       "<Figure size 864x576 with 1 Axes>"
      ]
     },
     "metadata": {
      "needs_background": "light"
     },
     "output_type": "display_data"
    }
   ],
   "source": [
    "plot_loss(history)"
   ]
  },
  {
   "cell_type": "markdown",
   "id": "4f3a2fa4-443e-4c13-a0a1-48c23df0d741",
   "metadata": {},
   "source": [
    "# Predicting Test Data:"
   ]
  },
  {
   "cell_type": "code",
   "execution_count": 29,
   "id": "d8cd0025-fdc9-4f45-9e14-72b7aed905ac",
   "metadata": {},
   "outputs": [],
   "source": [
    "data_path = './testing'\n",
    "data_dir = os.listdir(data_path)"
   ]
  },
  {
   "cell_type": "code",
   "execution_count": 30,
   "id": "e9932561-57e9-4adf-ab85-2691285c5cd8",
   "metadata": {},
   "outputs": [],
   "source": [
    "data_dir.remove('.DS_Store')"
   ]
  },
  {
   "cell_type": "code",
   "execution_count": 31,
   "id": "2ce106ca-da68-4544-9f60-b1884c7d94cb",
   "metadata": {},
   "outputs": [
    {
     "name": "stdout",
     "output_type": "stream",
     "text": [
      "Loading images of drinks\n",
      "Loading images of ads\n",
      "Loading images of vegetarian\n",
      "Loading images of diserts\n",
      "Loading images of places\n",
      "Loading images of clutter\n",
      "Loading images of non_vegetarian\n"
     ]
    }
   ],
   "source": [
    "img_data_list = []\n",
    "labels = []\n",
    "image_paths = []\n",
    "\n",
    "for data in data_dir:\n",
    "    img_list = os.listdir(data_path+'/'+data)\n",
    "    print('Loading images of', data)\n",
    "    for img in img_list:\n",
    "        img_path = data_path+'/'+data + '/' +img\n",
    "        try:\n",
    "            img = image.load_img(img_path, target_size= (28,28))\n",
    "            x = image.img_to_array(img)\n",
    "            x = preprocess_input(x)\n",
    "            img_data_list.append(x)\n",
    "            labels.append(data)\n",
    "            image_paths.append(img_path)\n",
    "        except:\n",
    "            continue"
   ]
  },
  {
   "cell_type": "code",
   "execution_count": 32,
   "id": "2663b9ea-ea59-479b-b2a3-fa1ce9c8e162",
   "metadata": {},
   "outputs": [],
   "source": [
    "img_data = np.array(img_data_list)"
   ]
  },
  {
   "cell_type": "code",
   "execution_count": 33,
   "id": "b610253e-b41c-4b6f-bd8e-cb46bc176a17",
   "metadata": {},
   "outputs": [],
   "source": [
    "np.save('./data/testing_sq_data.npy', img_data)"
   ]
  },
  {
   "cell_type": "code",
   "execution_count": 34,
   "id": "b4cd30f0-7a90-461f-a88e-74b8a32f3fce",
   "metadata": {},
   "outputs": [],
   "source": [
    "np.save('./data/testing_sq_labels.npy', labels)"
   ]
  },
  {
   "cell_type": "code",
   "execution_count": 35,
   "id": "3533be5c-dab2-426e-a7be-d1b9bdef42cb",
   "metadata": {},
   "outputs": [],
   "source": [
    "img_data = np.load('./data/testing_sq_data.npy')\n",
    "labels = np.load('./data/testing_sq_labels.npy')"
   ]
  },
  {
   "cell_type": "code",
   "execution_count": 36,
   "id": "4099f8f0-605d-4be7-9a2e-3caaa30ae751",
   "metadata": {},
   "outputs": [],
   "source": [
    "num_class = 3\n",
    "num_of_samples = img_data.shape[0]"
   ]
  },
  {
   "cell_type": "code",
   "execution_count": 38,
   "id": "0dd4e791-b4e9-414b-9c41-49f04cf91ece",
   "metadata": {},
   "outputs": [],
   "source": [
    "num_labels = []\n",
    "\n",
    "for each in labels:\n",
    "    if each == 'vegetarian':\n",
    "        num_labels.append(0)\n",
    "    elif each == 'non_vegetarian':\n",
    "        num_labels.append(1)\n",
    "    elif each == 'places':\n",
    "        num_labels.append(2)\n",
    "    elif each == 'diserts':\n",
    "        num_labels.append(3)\n",
    "    elif each == 'drinks':\n",
    "        num_labels.append(4)\n",
    "    elif each == 'clutter':\n",
    "        num_labels.append(5)\n",
    "    elif each == 'ads':\n",
    "        num_labels.append(6)"
   ]
  },
  {
   "cell_type": "code",
   "execution_count": 39,
   "id": "45a602e9-0c4c-4109-b9e6-34b0e8132069",
   "metadata": {},
   "outputs": [],
   "source": [
    "num_labels= np.array(num_labels)"
   ]
  },
  {
   "cell_type": "code",
   "execution_count": 40,
   "id": "35913a69-e584-457d-9c73-d4778257e747",
   "metadata": {},
   "outputs": [],
   "source": [
    "x = img_data"
   ]
  },
  {
   "cell_type": "code",
   "execution_count": 42,
   "id": "eee3d806-33ec-4956-89a4-70e771b080ca",
   "metadata": {},
   "outputs": [],
   "source": [
    "y = utils.to_categorical(num_labels, num_classes=7)"
   ]
  },
  {
   "cell_type": "markdown",
   "id": "00848f70-eacc-43f7-9a1f-4261b4996132",
   "metadata": {},
   "source": [
    "# Predicting on test Data:"
   ]
  },
  {
   "cell_type": "code",
   "execution_count": 43,
   "id": "865c34c8-243f-4833-9924-5f808eea7eec",
   "metadata": {},
   "outputs": [
    {
     "data": {
      "text/plain": [
       "<keras.engine.sequential.Sequential at 0x7f99ca3fcca0>"
      ]
     },
     "execution_count": 43,
     "metadata": {},
     "output_type": "execute_result"
    }
   ],
   "source": [
    "cnn_model_2"
   ]
  },
  {
   "cell_type": "code",
   "execution_count": 47,
   "id": "67a193bd-b530-4fc8-b182-ba6c84768c5a",
   "metadata": {},
   "outputs": [],
   "source": [
    "non_vegetarian_images = []"
   ]
  },
  {
   "cell_type": "code",
   "execution_count": 48,
   "id": "074361e0-e61c-4b20-97ba-471bd8b1cbda",
   "metadata": {},
   "outputs": [],
   "source": [
    "places_images = []"
   ]
  },
  {
   "cell_type": "code",
   "execution_count": 49,
   "id": "24b30d36-6507-44b7-b489-e6d5400ae1dd",
   "metadata": {},
   "outputs": [],
   "source": [
    "vegetarian_images = []"
   ]
  },
  {
   "cell_type": "code",
   "execution_count": 50,
   "id": "0ffa310f-ca3f-43d5-b97c-f167e25db4f5",
   "metadata": {
    "tags": []
   },
   "outputs": [],
   "source": [
    "for i, im in enumerate(x):\n",
    "    test_img = np.expand_dims(im, axis=0)\n",
    "    single_pred = cnn_model_2.predict(test_img,verbose=0)\n",
    "    if np.argmax(single_pred) == 0:\n",
    "        vegetarian_images.append(image_paths[i])\n",
    "    elif np.argmax(single_pred)==1:\n",
    "        non_vegetarian_images.append(image_paths[i])\n",
    "    else:\n",
    "        places_images.append(image_paths[i])"
   ]
  },
  {
   "cell_type": "code",
   "execution_count": 51,
   "id": "ea226ed8-78b6-486a-9523-015efba5b1f8",
   "metadata": {},
   "outputs": [
    {
     "data": {
      "text/plain": [
       "['./testing/drinks/drinks.webp',\n",
       " './testing/ads/a4317d9e758be0fd52bcc382517371ce--restaurants.jpg',\n",
       " './testing/ads/El Mitote+9myimage.jpg',\n",
       " './testing/vegetarian/quick-chopped-salad-recipe-photos-tablefortwoblog-2.jpg.webp',\n",
       " './testing/vegetarian/Indulge Diner+2myimage.jpg',\n",
       " './testing/vegetarian/Jade Siam+6myimage.jpg',\n",
       " './testing/vegetarian/La Fonda Latina+5myimage.jpg',\n",
       " './testing/vegetarian/Image1-1.jpg',\n",
       " './testing/vegetarian/3919555.jpg',\n",
       " './testing/vegetarian/Marea+4myimage.jpg',\n",
       " './testing/vegetarian/Sour-Cream-Dill-Potato-Salad-14.jpg',\n",
       " './testing/diserts/HoneycombCake_RECIPE_050522_33491.webp',\n",
       " './testing/diserts/Pepolino+9myimage.jpg',\n",
       " './testing/diserts/images.jpg',\n",
       " './testing/clutter/bartaco+7myimage.jpg',\n",
       " './testing/non_vegetarian/Allora+9myimage.jpg']"
      ]
     },
     "execution_count": 51,
     "metadata": {},
     "output_type": "execute_result"
    }
   ],
   "source": [
    "vegetarian_images"
   ]
  },
  {
   "cell_type": "code",
   "execution_count": 52,
   "id": "33f3d0e0-3e98-43aa-b9d4-39fe404fb379",
   "metadata": {},
   "outputs": [
    {
     "name": "stdout",
     "output_type": "stream",
     "text": [
      "Model: \"sequential_8\"\n",
      "_________________________________________________________________\n",
      " Layer (type)                Output Shape              Param #   \n",
      "=================================================================\n",
      " conv2d_16 (Conv2D)          (None, 26, 26, 16)        448       \n",
      "                                                                 \n",
      " max_pooling2d_16 (MaxPoolin  (None, 13, 13, 16)       0         \n",
      " g2D)                                                            \n",
      "                                                                 \n",
      " conv2d_17 (Conv2D)          (None, 11, 11, 64)        9280      \n",
      "                                                                 \n",
      " max_pooling2d_17 (MaxPoolin  (None, 5, 5, 64)         0         \n",
      " g2D)                                                            \n",
      "                                                                 \n",
      " flatten_8 (Flatten)         (None, 1600)              0         \n",
      "                                                                 \n",
      " dense_24 (Dense)            (None, 64)                102464    \n",
      "                                                                 \n",
      " dense_25 (Dense)            (None, 32)                2080      \n",
      "                                                                 \n",
      " dense_26 (Dense)            (None, 7)                 231       \n",
      "                                                                 \n",
      "=================================================================\n",
      "Total params: 114,503\n",
      "Trainable params: 114,503\n",
      "Non-trainable params: 0\n",
      "_________________________________________________________________\n"
     ]
    }
   ],
   "source": [
    "cnn_model_2.save('cnn_model_2.h5')\n",
    "\n",
    "new_model = load_model('cnn_model_2.h5')\n",
    "\n",
    "new_model.summary()"
   ]
  },
  {
   "cell_type": "code",
   "execution_count": 55,
   "id": "ff9d4406-b412-40d2-a5ff-9fb7099fafcd",
   "metadata": {},
   "outputs": [
    {
     "name": "stdout",
     "output_type": "stream",
     "text": [
      "6/6 [==============================] - 0s 3ms/step\n",
      "                precision    recall  f1-score   support\n",
      "\n",
      "    vegetarian       0.50      0.24      0.32        34\n",
      "non_vegetarian       0.24      0.67      0.36        24\n",
      "        places       0.32      0.85      0.47        26\n",
      "       diserts       0.50      0.14      0.21        22\n",
      "        drinks       0.67      0.09      0.16        22\n",
      "       clutter       0.25      0.05      0.08        21\n",
      "           ads       0.22      0.09      0.12        23\n",
      "\n",
      "      accuracy                           0.31       172\n",
      "     macro avg       0.39      0.30      0.25       172\n",
      "  weighted avg       0.39      0.31      0.26       172\n",
      "\n"
     ]
    }
   ],
   "source": [
    "pred = cnn_model_2.predict(x, batch_size=32, verbose=1)\n",
    "\n",
    "predicted = np.argmax(pred, axis=1)\n",
    "\n",
    "target_names = ['vegetarian', 'non_vegetarian', 'places', 'diserts', 'drinks', 'clutter', 'ads']\n",
    "\n",
    "report = classification_report(np.argmax(y, axis=1), predicted, target_names=target_names)\n",
    "\n",
    "print(report)"
   ]
  },
  {
   "cell_type": "code",
   "execution_count": null,
   "id": "370cd1ed-6bbf-4210-9dbe-8fed2005ada2",
   "metadata": {},
   "outputs": [],
   "source": []
  }
 ],
 "metadata": {
  "kernelspec": {
   "display_name": "Python 3 (ipykernel)",
   "language": "python",
   "name": "python3"
  },
  "language_info": {
   "codemirror_mode": {
    "name": "ipython",
    "version": 3
   },
   "file_extension": ".py",
   "mimetype": "text/x-python",
   "name": "python",
   "nbconvert_exporter": "python",
   "pygments_lexer": "ipython3",
   "version": "3.9.7"
  }
 },
 "nbformat": 4,
 "nbformat_minor": 5
}
