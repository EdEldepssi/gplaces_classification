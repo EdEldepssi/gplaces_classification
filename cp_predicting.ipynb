{
 "cells": [
  {
   "cell_type": "code",
   "execution_count": 1,
   "id": "4b213301-4e9d-493b-84fe-9fdde98054f8",
   "metadata": {},
   "outputs": [],
   "source": [
    "import numpy as np\n",
    "import matplotlib.pyplot as plt\n",
    "\n",
    "from keras.layers import Dense, Conv2D, MaxPool2D, Dropout, Flatten\n",
    "from keras.models import Sequential\n",
    "from keras.preprocessing.image import ImageDataGenerator\n",
    "\n",
    "from tensorflow.keras.models import Sequential\n",
    "from tensorflow.keras.layers import Dense, Dropout, Flatten, Conv2D, MaxPooling2D\n",
    "from tensorflow.keras.datasets import mnist\n",
    " \n",
    "from tensorflow.keras.utils import to_categorical\n",
    "\n",
    "from tensorflow.keras import utils\n",
    "\n",
    "from tensorflow.keras.preprocessing import image\n",
    "\n",
    "from tensorflow.keras.applications.resnet50 import preprocess_input\n",
    "\n",
    "from sklearn.model_selection import train_test_split\n",
    "\n",
    "from keras.layers import Input, Flatten, Dense\n",
    "\n",
    "from keras.models import Model\n",
    "\n",
    "from tensorflow.keras.optimizers import Adam\n",
    "\n",
    "import os\n",
    "\n",
    "import pandas as pd\n",
    "\n",
    "from tensorflow.keras.models import load_model\n",
    "\n",
    "import ast"
   ]
  },
  {
   "cell_type": "code",
   "execution_count": 2,
   "id": "0e63bcce-6978-4d4f-8e12-7b2b213eb621",
   "metadata": {},
   "outputs": [
    {
     "name": "stderr",
     "output_type": "stream",
     "text": [
      "2022-10-12 17:55:00.279866: I tensorflow/core/platform/cpu_feature_guard.cc:193] This TensorFlow binary is optimized with oneAPI Deep Neural Network Library (oneDNN) to use the following CPU instructions in performance-critical operations:  AVX2 FMA\n",
      "To enable them in other operations, rebuild TensorFlow with the appropriate compiler flags.\n"
     ]
    }
   ],
   "source": [
    "# Importing cnn model\n",
    "cnn_model_2 = load_model('cnn_model_2.h5')"
   ]
  },
  {
   "cell_type": "markdown",
   "id": "4f3a2fa4-443e-4c13-a0a1-48c23df0d741",
   "metadata": {},
   "source": [
    "# Predicting Test Data:"
   ]
  },
  {
   "cell_type": "raw",
   "id": "55fee284-ec90-47f9-979c-0e387b853ab6",
   "metadata": {},
   "source": [
    "path = os.getcwd()"
   ]
  },
  {
   "cell_type": "code",
   "execution_count": 3,
   "id": "923b07b1-a359-40d1-b4dc-e864094c9921",
   "metadata": {},
   "outputs": [],
   "source": [
    "data_path = './extracted_pics'"
   ]
  },
  {
   "cell_type": "code",
   "execution_count": 4,
   "id": "f1c71f60-f0b1-44c4-9498-365095f42b1e",
   "metadata": {},
   "outputs": [],
   "source": [
    "data_dir = os.listdir(data_path)"
   ]
  },
  {
   "cell_type": "code",
   "execution_count": 16,
   "id": "2ce106ca-da68-4544-9f60-b1884c7d94cb",
   "metadata": {},
   "outputs": [],
   "source": [
    "# importing pictures and adding them into a list\n",
    "\n",
    "img_data_list = []\n",
    "image_paths = []\n",
    "\n",
    "for img in data_dir:\n",
    "    img_path = data_path + '/' +img\n",
    "    try:\n",
    "        img = image.load_img(img_path, target_size= (28,28))\n",
    "        x = image.img_to_array(img)\n",
    "        x = preprocess_input(x)\n",
    "        img_data_list.append(x)\n",
    "        image_paths.append(img_path)\n",
    "    except:\n",
    "        continue"
   ]
  },
  {
   "cell_type": "code",
   "execution_count": 17,
   "id": "2663b9ea-ea59-479b-b2a3-fa1ce9c8e162",
   "metadata": {},
   "outputs": [],
   "source": [
    "img_data = np.array(img_data_list)"
   ]
  },
  {
   "cell_type": "code",
   "execution_count": 18,
   "id": "b610253e-b41c-4b6f-bd8e-cb46bc176a17",
   "metadata": {},
   "outputs": [],
   "source": [
    "np.save('./data/current_sq_data.npy', img_data)"
   ]
  },
  {
   "cell_type": "code",
   "execution_count": 19,
   "id": "3533be5c-dab2-426e-a7be-d1b9bdef42cb",
   "metadata": {},
   "outputs": [],
   "source": [
    "img_data = np.load('./data/current_sq_data.npy')"
   ]
  },
  {
   "cell_type": "code",
   "execution_count": 20,
   "id": "35913a69-e584-457d-9c73-d4778257e747",
   "metadata": {},
   "outputs": [],
   "source": [
    "x = img_data"
   ]
  },
  {
   "cell_type": "markdown",
   "id": "00848f70-eacc-43f7-9a1f-4261b4996132",
   "metadata": {},
   "source": [
    "# Predicting on test Data:"
   ]
  },
  {
   "cell_type": "code",
   "execution_count": 21,
   "id": "67a193bd-b530-4fc8-b182-ba6c84768c5a",
   "metadata": {},
   "outputs": [],
   "source": [
    "non_vegetarian_images = []"
   ]
  },
  {
   "cell_type": "code",
   "execution_count": 22,
   "id": "074361e0-e61c-4b20-97ba-471bd8b1cbda",
   "metadata": {},
   "outputs": [],
   "source": [
    "places_images = []"
   ]
  },
  {
   "cell_type": "code",
   "execution_count": 23,
   "id": "24b30d36-6507-44b7-b489-e6d5400ae1dd",
   "metadata": {},
   "outputs": [],
   "source": [
    "vegetarian_images = []"
   ]
  },
  {
   "cell_type": "code",
   "execution_count": 24,
   "id": "0ffa310f-ca3f-43d5-b97c-f167e25db4f5",
   "metadata": {
    "tags": []
   },
   "outputs": [],
   "source": [
    "for i, im in enumerate(x):\n",
    "    test_img = np.expand_dims(im, axis=0)\n",
    "    single_pred = cnn_model_2.predict(test_img,verbose=0)\n",
    "    if np.argmax(single_pred) == 0:\n",
    "        vegetarian_images.append(image_paths[i])\n",
    "    elif np.argmax(single_pred)==1:\n",
    "        non_vegetarian_images.append(image_paths[i])\n",
    "    else:\n",
    "        places_images.append(image_paths[i])"
   ]
  },
  {
   "cell_type": "code",
   "execution_count": 25,
   "id": "70574ae4-6b0d-4bba-98cc-47a5cb14ed1e",
   "metadata": {},
   "outputs": [],
   "source": [
    "places_df = pd.read_csv('./data/places_df.csv')"
   ]
  },
  {
   "cell_type": "code",
   "execution_count": 26,
   "id": "29907de7-dd1d-42a5-84d0-2d37a8861ecc",
   "metadata": {},
   "outputs": [
    {
     "data": {
      "text/html": [
       "<div>\n",
       "<style scoped>\n",
       "    .dataframe tbody tr th:only-of-type {\n",
       "        vertical-align: middle;\n",
       "    }\n",
       "\n",
       "    .dataframe tbody tr th {\n",
       "        vertical-align: top;\n",
       "    }\n",
       "\n",
       "    .dataframe thead th {\n",
       "        text-align: right;\n",
       "    }\n",
       "</style>\n",
       "<table border=\"1\" class=\"dataframe\">\n",
       "  <thead>\n",
       "    <tr style=\"text-align: right;\">\n",
       "      <th></th>\n",
       "      <th>name</th>\n",
       "      <th>address</th>\n",
       "      <th>geometry</th>\n",
       "      <th>phone_number</th>\n",
       "      <th>website</th>\n",
       "      <th>total_user_ratings</th>\n",
       "      <th>reviews</th>\n",
       "    </tr>\n",
       "  </thead>\n",
       "  <tbody>\n",
       "    <tr>\n",
       "      <th>31</th>\n",
       "      <td>Kana Sushi</td>\n",
       "      <td>7020 Old Keene Mill Rd, Springfield, VA 22150,...</td>\n",
       "      <td>{'lat': 38.7793617, 'lng': -77.18718659999999}</td>\n",
       "      <td>+1 703-569-3073</td>\n",
       "      <td>http://kana-sushi.com/</td>\n",
       "      <td>425.0</td>\n",
       "      <td>[{'author_name': 'Yerlan Jumabekov', 'author_u...</td>\n",
       "    </tr>\n",
       "  </tbody>\n",
       "</table>\n",
       "</div>"
      ],
      "text/plain": [
       "          name                                            address  \\\n",
       "31  Kana Sushi  7020 Old Keene Mill Rd, Springfield, VA 22150,...   \n",
       "\n",
       "                                          geometry     phone_number  \\\n",
       "31  {'lat': 38.7793617, 'lng': -77.18718659999999}  +1 703-569-3073   \n",
       "\n",
       "                   website  total_user_ratings  \\\n",
       "31  http://kana-sushi.com/               425.0   \n",
       "\n",
       "                                              reviews  \n",
       "31  [{'author_name': 'Yerlan Jumabekov', 'author_u...  "
      ]
     },
     "execution_count": 26,
     "metadata": {},
     "output_type": "execute_result"
    }
   ],
   "source": [
    "places_df[places_df['name']=='Kana Sushi']"
   ]
  },
  {
   "cell_type": "code",
   "execution_count": 42,
   "id": "48c94c01-381b-46f0-97ed-a326934bac42",
   "metadata": {},
   "outputs": [
    {
     "data": {
      "text/plain": [
       "38.7775425"
      ]
     },
     "execution_count": 42,
     "metadata": {},
     "output_type": "execute_result"
    }
   ],
   "source": [
    "ast.literal_eval(places_df['geometry'][0])['lat']"
   ]
  },
  {
   "cell_type": "code",
   "execution_count": 43,
   "id": "628a2381-0be9-45db-9e53-5fd4ef1d5b2c",
   "metadata": {},
   "outputs": [],
   "source": [
    "places_df['lat'] = places_df['geometry'].apply(lambda x: ast.literal_eval(x)['lat'])"
   ]
  },
  {
   "cell_type": "code",
   "execution_count": 44,
   "id": "25776815-91c8-4e84-bf49-6772843dc2eb",
   "metadata": {},
   "outputs": [],
   "source": [
    "places_df['lng'] = places_df['geometry'].apply(lambda x: ast.literal_eval(x)['lng'])"
   ]
  },
  {
   "cell_type": "code",
   "execution_count": 45,
   "id": "a34cbedc-e15d-4393-bf09-44f76b5bb83c",
   "metadata": {},
   "outputs": [],
   "source": [
    "def text_extract(txt_list):\n",
    "    text = ''\n",
    "    txt = ast.literal_eval(txt_list)\n",
    "    for each in txt:\n",
    "        text += each['text']\n",
    "    return text\n",
    "    "
   ]
  },
  {
   "cell_type": "code",
   "execution_count": 46,
   "id": "6ecbed6b-c316-4582-99ef-27f67d5a4c64",
   "metadata": {},
   "outputs": [],
   "source": [
    "places_df['text_extract'] = places_df['reviews'].apply(text_extract)"
   ]
  },
  {
   "cell_type": "code",
   "execution_count": 47,
   "id": "5b99d69a-97f1-4574-8be4-b3619f884201",
   "metadata": {
    "tags": []
   },
   "outputs": [],
   "source": [
    "# Creating vegetarian Images dataframe\n",
    "images_df0 = pd.DataFrame({'image_path': vegetarian_images})"
   ]
  },
  {
   "cell_type": "code",
   "execution_count": 48,
   "id": "1eb38ae9-e590-4294-9134-efa774ee22b3",
   "metadata": {},
   "outputs": [
    {
     "data": {
      "text/plain": [
       "'Pho Ngon'"
      ]
     },
     "execution_count": 48,
     "metadata": {},
     "output_type": "execute_result"
    }
   ],
   "source": [
    "images_df0['image_path'][0].split('/')[2].split('+')[0]"
   ]
  },
  {
   "cell_type": "code",
   "execution_count": 49,
   "id": "1588ce64-048b-449c-aef5-4f4c5221fc9f",
   "metadata": {},
   "outputs": [],
   "source": [
    "# Adding restaurant name to images_df\n",
    "images_df0['name'] = images_df0['image_path'].apply(lambda x: x.split('/')[2].split('+')[0])"
   ]
  },
  {
   "cell_type": "code",
   "execution_count": 50,
   "id": "0b952e7b-c88f-4500-ad60-50bc4cbfed92",
   "metadata": {},
   "outputs": [],
   "source": [
    "# Merging places_df with images_df\n",
    "vegetarian_places = places_df.merge(images_df0, on='name')"
   ]
  },
  {
   "cell_type": "code",
   "execution_count": 51,
   "id": "da94b16e-2f37-43e5-9eb0-3f0e7081ef15",
   "metadata": {},
   "outputs": [],
   "source": [
    "# Cleaning geometry column\n",
    "vegetarian_places['geometry'] = vegetarian_places['geometry'].apply(lambda x: ast.literal_eval(x))"
   ]
  },
  {
   "cell_type": "code",
   "execution_count": 52,
   "id": "82975482-5614-46d5-a168-ba3294c1fb79",
   "metadata": {
    "tags": []
   },
   "outputs": [],
   "source": [
    "# Cleaning reviews column\n",
    "vegetarian_places['reviews'] = vegetarian_places['reviews'].apply(lambda x: ast.literal_eval(x))"
   ]
  },
  {
   "cell_type": "code",
   "execution_count": 53,
   "id": "1bcd033f-eac8-4a19-8e10-9efcea48ea0d",
   "metadata": {},
   "outputs": [],
   "source": [
    "def review_table(name):\n",
    "    \n",
    "    reviews_df = pd.DataFrame({'author':[],'rating':[],'time':[] ,'text':[]})\n",
    "    reviews_list = vegetarian_places[vegetarian_places['name']== name].reviews.iloc[0]\n",
    "    for each in reviews_list:\n",
    "        author = each['author_name']\n",
    "        rating = each['rating']\n",
    "        time = each['relative_time_description']\n",
    "        text = each['text']\n",
    "        reviews_df.loc[len(reviews_df)] = [author, rating, time, text]\n",
    "    \n",
    "    return reviews_df"
   ]
  },
  {
   "cell_type": "code",
   "execution_count": 54,
   "id": "042affe0-ab4f-4762-abb1-02931654a634",
   "metadata": {},
   "outputs": [],
   "source": [
    "# place_review = review_table('Yard House')"
   ]
  },
  {
   "cell_type": "code",
   "execution_count": 55,
   "id": "87a89a6f-9b02-4516-8a42-5e80d503d1e6",
   "metadata": {},
   "outputs": [],
   "source": [
    "# place_review"
   ]
  },
  {
   "cell_type": "code",
   "execution_count": 56,
   "id": "353a0edd-c9b1-4a05-8b9e-44e43e7420db",
   "metadata": {
    "collapsed": true,
    "jupyter": {
     "outputs_hidden": true
    },
    "tags": []
   },
   "outputs": [
    {
     "data": {
      "text/html": [
       "<div>\n",
       "<style scoped>\n",
       "    .dataframe tbody tr th:only-of-type {\n",
       "        vertical-align: middle;\n",
       "    }\n",
       "\n",
       "    .dataframe tbody tr th {\n",
       "        vertical-align: top;\n",
       "    }\n",
       "\n",
       "    .dataframe thead th {\n",
       "        text-align: right;\n",
       "    }\n",
       "</style>\n",
       "<table border=\"1\" class=\"dataframe\">\n",
       "  <thead>\n",
       "    <tr style=\"text-align: right;\">\n",
       "      <th></th>\n",
       "      <th>image_path</th>\n",
       "      <th>name</th>\n",
       "    </tr>\n",
       "  </thead>\n",
       "  <tbody>\n",
       "    <tr>\n",
       "      <th>0</th>\n",
       "      <td>./extracted_pics/Pho Ngon+2myimage.jpg</td>\n",
       "      <td>Pho Ngon</td>\n",
       "    </tr>\n",
       "    <tr>\n",
       "      <th>1</th>\n",
       "      <td>./extracted_pics/Karahi Kabob+7myimage.jpg</td>\n",
       "      <td>Karahi Kabob</td>\n",
       "    </tr>\n",
       "    <tr>\n",
       "      <th>2</th>\n",
       "      <td>./extracted_pics/Kumo Asian Bistro+7myimage.jpg</td>\n",
       "      <td>Kumo Asian Bistro</td>\n",
       "    </tr>\n",
       "    <tr>\n",
       "      <th>3</th>\n",
       "      <td>./extracted_pics/Saigon City Restaurant+5myima...</td>\n",
       "      <td>Saigon City Restaurant</td>\n",
       "    </tr>\n",
       "    <tr>\n",
       "      <th>4</th>\n",
       "      <td>./extracted_pics/Mandarin Chinese Halal Restau...</td>\n",
       "      <td>Mandarin Chinese Halal Restaurant</td>\n",
       "    </tr>\n",
       "    <tr>\n",
       "      <th>5</th>\n",
       "      <td>./extracted_pics/Romano's Macaroni Grill+8myim...</td>\n",
       "      <td>Romano's Macaroni Grill</td>\n",
       "    </tr>\n",
       "    <tr>\n",
       "      <th>6</th>\n",
       "      <td>./extracted_pics/Outback Steakhouse+1myimage.jpg</td>\n",
       "      <td>Outback Steakhouse</td>\n",
       "    </tr>\n",
       "    <tr>\n",
       "      <th>7</th>\n",
       "      <td>./extracted_pics/Houlihan's+6myimage.jpg</td>\n",
       "      <td>Houlihan's</td>\n",
       "    </tr>\n",
       "    <tr>\n",
       "      <th>8</th>\n",
       "      <td>./extracted_pics/Sarku Japan+7myimage.jpg</td>\n",
       "      <td>Sarku Japan</td>\n",
       "    </tr>\n",
       "    <tr>\n",
       "      <th>9</th>\n",
       "      <td>./extracted_pics/Pho Ngon+0myimage.jpg</td>\n",
       "      <td>Pho Ngon</td>\n",
       "    </tr>\n",
       "    <tr>\n",
       "      <th>10</th>\n",
       "      <td>./extracted_pics/Malek's Pizza Palace+7myimage...</td>\n",
       "      <td>Malek's Pizza Palace</td>\n",
       "    </tr>\n",
       "    <tr>\n",
       "      <th>11</th>\n",
       "      <td>./extracted_pics/Rice &amp; Noodles Thai Gourmet+8...</td>\n",
       "      <td>Rice &amp; Noodles Thai Gourmet</td>\n",
       "    </tr>\n",
       "    <tr>\n",
       "      <th>12</th>\n",
       "      <td>./extracted_pics/Panera Bread+4myimage.jpg</td>\n",
       "      <td>Panera Bread</td>\n",
       "    </tr>\n",
       "    <tr>\n",
       "      <th>13</th>\n",
       "      <td>./extracted_pics/Jimmy John's+2myimage.jpg</td>\n",
       "      <td>Jimmy John's</td>\n",
       "    </tr>\n",
       "    <tr>\n",
       "      <th>14</th>\n",
       "      <td>./extracted_pics/Rice &amp; Noodles Thai Gourmet+5...</td>\n",
       "      <td>Rice &amp; Noodles Thai Gourmet</td>\n",
       "    </tr>\n",
       "    <tr>\n",
       "      <th>15</th>\n",
       "      <td>./extracted_pics/Vocelli Pizza+3myimage.jpg</td>\n",
       "      <td>Vocelli Pizza</td>\n",
       "    </tr>\n",
       "    <tr>\n",
       "      <th>16</th>\n",
       "      <td>./extracted_pics/Four Seasons Cafe+9myimage.jpg</td>\n",
       "      <td>Four Seasons Cafe</td>\n",
       "    </tr>\n",
       "    <tr>\n",
       "      <th>17</th>\n",
       "      <td>./extracted_pics/IHOP+6myimage.jpg</td>\n",
       "      <td>IHOP</td>\n",
       "    </tr>\n",
       "    <tr>\n",
       "      <th>18</th>\n",
       "      <td>./extracted_pics/Kumo Asian Bistro+3myimage.jpg</td>\n",
       "      <td>Kumo Asian Bistro</td>\n",
       "    </tr>\n",
       "    <tr>\n",
       "      <th>19</th>\n",
       "      <td>./extracted_pics/Pizza Hut+9myimage.jpg</td>\n",
       "      <td>Pizza Hut</td>\n",
       "    </tr>\n",
       "    <tr>\n",
       "      <th>20</th>\n",
       "      <td>./extracted_pics/Sarku Japan+1myimage.jpg</td>\n",
       "      <td>Sarku Japan</td>\n",
       "    </tr>\n",
       "    <tr>\n",
       "      <th>21</th>\n",
       "      <td>./extracted_pics/VA Kabob House+3myimage.jpg</td>\n",
       "      <td>VA Kabob House</td>\n",
       "    </tr>\n",
       "    <tr>\n",
       "      <th>22</th>\n",
       "      <td>./extracted_pics/Delia's Pizzeria &amp; Grille+9my...</td>\n",
       "      <td>Delia's Pizzeria &amp; Grille</td>\n",
       "    </tr>\n",
       "    <tr>\n",
       "      <th>23</th>\n",
       "      <td>./extracted_pics/Kana Sushi+6myimage.jpg</td>\n",
       "      <td>Kana Sushi</td>\n",
       "    </tr>\n",
       "    <tr>\n",
       "      <th>24</th>\n",
       "      <td>./extracted_pics/Sarku Japan+4myimage.jpg</td>\n",
       "      <td>Sarku Japan</td>\n",
       "    </tr>\n",
       "    <tr>\n",
       "      <th>25</th>\n",
       "      <td>./extracted_pics/Namaste+8myimage.jpg</td>\n",
       "      <td>Namaste</td>\n",
       "    </tr>\n",
       "    <tr>\n",
       "      <th>26</th>\n",
       "      <td>./extracted_pics/TGI Fridays+7myimage.jpg</td>\n",
       "      <td>TGI Fridays</td>\n",
       "    </tr>\n",
       "    <tr>\n",
       "      <th>27</th>\n",
       "      <td>./extracted_pics/Saigon City Restaurant+3myima...</td>\n",
       "      <td>Saigon City Restaurant</td>\n",
       "    </tr>\n",
       "    <tr>\n",
       "      <th>28</th>\n",
       "      <td>./extracted_pics/Springfield Cafe+4myimage.jpg</td>\n",
       "      <td>Springfield Cafe</td>\n",
       "    </tr>\n",
       "    <tr>\n",
       "      <th>29</th>\n",
       "      <td>./extracted_pics/Rice &amp; Noodles Thai Gourmet+9...</td>\n",
       "      <td>Rice &amp; Noodles Thai Gourmet</td>\n",
       "    </tr>\n",
       "    <tr>\n",
       "      <th>30</th>\n",
       "      <td>./extracted_pics/Spin Pollo Kingstowne+9myimag...</td>\n",
       "      <td>Spin Pollo Kingstowne</td>\n",
       "    </tr>\n",
       "    <tr>\n",
       "      <th>31</th>\n",
       "      <td>./extracted_pics/UNO Pizzeria &amp; Grill+8myimage...</td>\n",
       "      <td>UNO Pizzeria &amp; Grill</td>\n",
       "    </tr>\n",
       "    <tr>\n",
       "      <th>32</th>\n",
       "      <td>./extracted_pics/Four Seasons Cafe+8myimage.jpg</td>\n",
       "      <td>Four Seasons Cafe</td>\n",
       "    </tr>\n",
       "    <tr>\n",
       "      <th>33</th>\n",
       "      <td>./extracted_pics/Jimmy John's+6myimage.jpg</td>\n",
       "      <td>Jimmy John's</td>\n",
       "    </tr>\n",
       "    <tr>\n",
       "      <th>34</th>\n",
       "      <td>./extracted_pics/VA Kabob House+9myimage.jpg</td>\n",
       "      <td>VA Kabob House</td>\n",
       "    </tr>\n",
       "    <tr>\n",
       "      <th>35</th>\n",
       "      <td>./extracted_pics/Hard Times Cafe+4myimage.jpg</td>\n",
       "      <td>Hard Times Cafe</td>\n",
       "    </tr>\n",
       "  </tbody>\n",
       "</table>\n",
       "</div>"
      ],
      "text/plain": [
       "                                           image_path  \\\n",
       "0              ./extracted_pics/Pho Ngon+2myimage.jpg   \n",
       "1          ./extracted_pics/Karahi Kabob+7myimage.jpg   \n",
       "2     ./extracted_pics/Kumo Asian Bistro+7myimage.jpg   \n",
       "3   ./extracted_pics/Saigon City Restaurant+5myima...   \n",
       "4   ./extracted_pics/Mandarin Chinese Halal Restau...   \n",
       "5   ./extracted_pics/Romano's Macaroni Grill+8myim...   \n",
       "6    ./extracted_pics/Outback Steakhouse+1myimage.jpg   \n",
       "7            ./extracted_pics/Houlihan's+6myimage.jpg   \n",
       "8           ./extracted_pics/Sarku Japan+7myimage.jpg   \n",
       "9              ./extracted_pics/Pho Ngon+0myimage.jpg   \n",
       "10  ./extracted_pics/Malek's Pizza Palace+7myimage...   \n",
       "11  ./extracted_pics/Rice & Noodles Thai Gourmet+8...   \n",
       "12         ./extracted_pics/Panera Bread+4myimage.jpg   \n",
       "13         ./extracted_pics/Jimmy John's+2myimage.jpg   \n",
       "14  ./extracted_pics/Rice & Noodles Thai Gourmet+5...   \n",
       "15        ./extracted_pics/Vocelli Pizza+3myimage.jpg   \n",
       "16    ./extracted_pics/Four Seasons Cafe+9myimage.jpg   \n",
       "17                 ./extracted_pics/IHOP+6myimage.jpg   \n",
       "18    ./extracted_pics/Kumo Asian Bistro+3myimage.jpg   \n",
       "19            ./extracted_pics/Pizza Hut+9myimage.jpg   \n",
       "20          ./extracted_pics/Sarku Japan+1myimage.jpg   \n",
       "21       ./extracted_pics/VA Kabob House+3myimage.jpg   \n",
       "22  ./extracted_pics/Delia's Pizzeria & Grille+9my...   \n",
       "23           ./extracted_pics/Kana Sushi+6myimage.jpg   \n",
       "24          ./extracted_pics/Sarku Japan+4myimage.jpg   \n",
       "25              ./extracted_pics/Namaste+8myimage.jpg   \n",
       "26          ./extracted_pics/TGI Fridays+7myimage.jpg   \n",
       "27  ./extracted_pics/Saigon City Restaurant+3myima...   \n",
       "28     ./extracted_pics/Springfield Cafe+4myimage.jpg   \n",
       "29  ./extracted_pics/Rice & Noodles Thai Gourmet+9...   \n",
       "30  ./extracted_pics/Spin Pollo Kingstowne+9myimag...   \n",
       "31  ./extracted_pics/UNO Pizzeria & Grill+8myimage...   \n",
       "32    ./extracted_pics/Four Seasons Cafe+8myimage.jpg   \n",
       "33         ./extracted_pics/Jimmy John's+6myimage.jpg   \n",
       "34       ./extracted_pics/VA Kabob House+9myimage.jpg   \n",
       "35      ./extracted_pics/Hard Times Cafe+4myimage.jpg   \n",
       "\n",
       "                                 name  \n",
       "0                            Pho Ngon  \n",
       "1                        Karahi Kabob  \n",
       "2                   Kumo Asian Bistro  \n",
       "3              Saigon City Restaurant  \n",
       "4   Mandarin Chinese Halal Restaurant  \n",
       "5             Romano's Macaroni Grill  \n",
       "6                  Outback Steakhouse  \n",
       "7                          Houlihan's  \n",
       "8                         Sarku Japan  \n",
       "9                            Pho Ngon  \n",
       "10               Malek's Pizza Palace  \n",
       "11        Rice & Noodles Thai Gourmet  \n",
       "12                       Panera Bread  \n",
       "13                       Jimmy John's  \n",
       "14        Rice & Noodles Thai Gourmet  \n",
       "15                      Vocelli Pizza  \n",
       "16                  Four Seasons Cafe  \n",
       "17                               IHOP  \n",
       "18                  Kumo Asian Bistro  \n",
       "19                          Pizza Hut  \n",
       "20                        Sarku Japan  \n",
       "21                     VA Kabob House  \n",
       "22          Delia's Pizzeria & Grille  \n",
       "23                         Kana Sushi  \n",
       "24                        Sarku Japan  \n",
       "25                            Namaste  \n",
       "26                        TGI Fridays  \n",
       "27             Saigon City Restaurant  \n",
       "28                   Springfield Cafe  \n",
       "29        Rice & Noodles Thai Gourmet  \n",
       "30              Spin Pollo Kingstowne  \n",
       "31               UNO Pizzeria & Grill  \n",
       "32                  Four Seasons Cafe  \n",
       "33                       Jimmy John's  \n",
       "34                     VA Kabob House  \n",
       "35                    Hard Times Cafe  "
      ]
     },
     "execution_count": 56,
     "metadata": {},
     "output_type": "execute_result"
    }
   ],
   "source": []
  },
  {
   "cell_type": "code",
   "execution_count": 59,
   "id": "191d5372-26ea-4898-9c62-e0d6915f7a9d",
   "metadata": {},
   "outputs": [],
   "source": [
    "# Creating non_vegetarian Images dataframe\n",
    "images_df1 = pd.DataFrame({'image_path': non_vegetarian_images})"
   ]
  },
  {
   "cell_type": "code",
   "execution_count": 62,
   "id": "9bb6e556-24dc-42ed-b931-a25eb8c6bbdc",
   "metadata": {},
   "outputs": [],
   "source": [
    "images_df1['name'] = images_df1['image_path'].apply(lambda x: x.split('/')[2].split('+')[0])"
   ]
  },
  {
   "cell_type": "code",
   "execution_count": 64,
   "id": "a9a8bcc1-2080-47ed-b3de-e72c28c2bdd5",
   "metadata": {},
   "outputs": [],
   "source": [
    "# Creating places Images dataframe\n",
    "images_df2 = pd.DataFrame({'image_path': places_images})"
   ]
  },
  {
   "cell_type": "code",
   "execution_count": 65,
   "id": "ff85c2e6-bcfe-4393-8979-082ad1bf39f3",
   "metadata": {},
   "outputs": [],
   "source": [
    "images_df2['name'] = images_df2['image_path'].apply(lambda x: x.split('/')[2].split('+')[0])"
   ]
  },
  {
   "cell_type": "code",
   "execution_count": null,
   "id": "03d1c859-b422-4068-8f6e-b6385ec98df0",
   "metadata": {},
   "outputs": [],
   "source": []
  }
 ],
 "metadata": {
  "kernelspec": {
   "display_name": "Python 3 (ipykernel)",
   "language": "python",
   "name": "python3"
  },
  "language_info": {
   "codemirror_mode": {
    "name": "ipython",
    "version": 3
   },
   "file_extension": ".py",
   "mimetype": "text/x-python",
   "name": "python",
   "nbconvert_exporter": "python",
   "pygments_lexer": "ipython3",
   "version": "3.9.7"
  }
 },
 "nbformat": 4,
 "nbformat_minor": 5
}
