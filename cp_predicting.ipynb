{
 "cells": [
  {
   "cell_type": "code",
   "execution_count": 1,
   "id": "4b213301-4e9d-493b-84fe-9fdde98054f8",
   "metadata": {},
   "outputs": [],
   "source": [
    "import numpy as np\n",
    "import matplotlib.pyplot as plt\n",
    "from keras.layers import Dense, Conv2D, MaxPool2D, Dropout, Flatten\n",
    "from keras.models import Sequential\n",
    "from keras.preprocessing.image import ImageDataGenerator\n",
    "from tensorflow.keras.models import Sequential\n",
    "from tensorflow.keras.layers import Dense, Dropout, Flatten, Conv2D, MaxPooling2D\n",
    "from tensorflow.keras.datasets import mnist\n",
    "from tensorflow.keras.utils import to_categorical\n",
    "from tensorflow.keras import utils\n",
    "from tensorflow.keras.preprocessing import image\n",
    "from tensorflow.keras.applications.resnet50 import preprocess_input\n",
    "from sklearn.model_selection import train_test_split\n",
    "from keras.layers import Input, Flatten, Dense\n",
    "from keras.models import Model\n",
    "from tensorflow.keras.optimizers import Adam\n",
    "import os\n",
    "import pandas as pd\n",
    "from tensorflow.keras.models import load_model\n",
    "import ast"
   ]
  },
  {
   "cell_type": "code",
   "execution_count": 2,
   "id": "0e63bcce-6978-4d4f-8e12-7b2b213eb621",
   "metadata": {},
   "outputs": [
    {
     "name": "stderr",
     "output_type": "stream",
     "text": [
      "2022-10-12 17:55:00.279866: I tensorflow/core/platform/cpu_feature_guard.cc:193] This TensorFlow binary is optimized with oneAPI Deep Neural Network Library (oneDNN) to use the following CPU instructions in performance-critical operations:  AVX2 FMA\n",
      "To enable them in other operations, rebuild TensorFlow with the appropriate compiler flags.\n"
     ]
    }
   ],
   "source": [
    "# Importing cnn model\n",
    "cnn_model_2 = load_model('cnn_model_2.h5')"
   ]
  },
  {
   "cell_type": "markdown",
   "id": "4f3a2fa4-443e-4c13-a0a1-48c23df0d741",
   "metadata": {},
   "source": [
    "# Predicting Test Data:"
   ]
  },
  {
   "cell_type": "raw",
   "id": "55fee284-ec90-47f9-979c-0e387b853ab6",
   "metadata": {},
   "source": [
    "path = os.getcwd()"
   ]
  },
  {
   "cell_type": "code",
   "execution_count": 3,
   "id": "923b07b1-a359-40d1-b4dc-e864094c9921",
   "metadata": {},
   "outputs": [],
   "source": [
    "data_path = './extracted_pics'"
   ]
  },
  {
   "cell_type": "code",
   "execution_count": 4,
   "id": "f1c71f60-f0b1-44c4-9498-365095f42b1e",
   "metadata": {},
   "outputs": [],
   "source": [
    "data_dir = os.listdir(data_path)"
   ]
  },
  {
   "cell_type": "code",
   "execution_count": 16,
   "id": "2ce106ca-da68-4544-9f60-b1884c7d94cb",
   "metadata": {},
   "outputs": [],
   "source": [
    "# importing pictures and adding them into a list\n",
    "\n",
    "img_data_list = []\n",
    "image_paths = []\n",
    "\n",
    "for img in data_dir:\n",
    "    img_path = data_path + '/' +img\n",
    "    try:\n",
    "        img = image.load_img(img_path, target_size= (28,28))\n",
    "        x = image.img_to_array(img)\n",
    "        x = preprocess_input(x)\n",
    "        img_data_list.append(x)\n",
    "        image_paths.append(img_path)\n",
    "    except:\n",
    "        continue"
   ]
  },
  {
   "cell_type": "code",
   "execution_count": 17,
   "id": "2663b9ea-ea59-479b-b2a3-fa1ce9c8e162",
   "metadata": {},
   "outputs": [],
   "source": [
    "img_data = np.array(img_data_list)"
   ]
  },
  {
   "cell_type": "code",
   "execution_count": 18,
   "id": "b610253e-b41c-4b6f-bd8e-cb46bc176a17",
   "metadata": {},
   "outputs": [],
   "source": [
    "np.save('./data/current_sq_data.npy', img_data)"
   ]
  },
  {
   "cell_type": "code",
   "execution_count": 19,
   "id": "3533be5c-dab2-426e-a7be-d1b9bdef42cb",
   "metadata": {},
   "outputs": [],
   "source": [
    "img_data = np.load('./data/current_sq_data.npy')"
   ]
  },
  {
   "cell_type": "code",
   "execution_count": 20,
   "id": "35913a69-e584-457d-9c73-d4778257e747",
   "metadata": {},
   "outputs": [],
   "source": [
    "x = img_data"
   ]
  },
  {
   "cell_type": "markdown",
   "id": "00848f70-eacc-43f7-9a1f-4261b4996132",
   "metadata": {},
   "source": [
    "# Predicting on test Data:"
   ]
  },
  {
   "cell_type": "code",
   "execution_count": 21,
   "id": "67a193bd-b530-4fc8-b182-ba6c84768c5a",
   "metadata": {},
   "outputs": [],
   "source": [
    "non_vegetarian_images = []"
   ]
  },
  {
   "cell_type": "code",
   "execution_count": 22,
   "id": "074361e0-e61c-4b20-97ba-471bd8b1cbda",
   "metadata": {},
   "outputs": [],
   "source": [
    "places_images = []"
   ]
  },
  {
   "cell_type": "code",
   "execution_count": 23,
   "id": "24b30d36-6507-44b7-b489-e6d5400ae1dd",
   "metadata": {},
   "outputs": [],
   "source": [
    "vegetarian_images = []"
   ]
  },
  {
   "cell_type": "code",
   "execution_count": 24,
   "id": "0ffa310f-ca3f-43d5-b97c-f167e25db4f5",
   "metadata": {
    "tags": []
   },
   "outputs": [],
   "source": [
    "for i, im in enumerate(x):\n",
    "    test_img = np.expand_dims(im, axis=0)\n",
    "    single_pred = cnn_model_2.predict(test_img,verbose=0)\n",
    "    if np.argmax(single_pred) == 0:\n",
    "        vegetarian_images.append(image_paths[i])\n",
    "    elif np.argmax(single_pred)==1:\n",
    "        non_vegetarian_images.append(image_paths[i])\n",
    "    else:\n",
    "        places_images.append(image_paths[i])"
   ]
  },
  {
   "cell_type": "code",
   "execution_count": 25,
   "id": "70574ae4-6b0d-4bba-98cc-47a5cb14ed1e",
   "metadata": {},
   "outputs": [],
   "source": [
    "places_df = pd.read_csv('./data/places_df.csv')"
   ]
  },
  {
   "cell_type": "code",
   "execution_count": 26,
   "id": "29907de7-dd1d-42a5-84d0-2d37a8861ecc",
   "metadata": {},
   "outputs": [
    {
     "data": {
      "text/html": [
       "<div>\n",
       "<style scoped>\n",
       "    .dataframe tbody tr th:only-of-type {\n",
       "        vertical-align: middle;\n",
       "    }\n",
       "\n",
       "    .dataframe tbody tr th {\n",
       "        vertical-align: top;\n",
       "    }\n",
       "\n",
       "    .dataframe thead th {\n",
       "        text-align: right;\n",
       "    }\n",
       "</style>\n",
       "<table border=\"1\" class=\"dataframe\">\n",
       "  <thead>\n",
       "    <tr style=\"text-align: right;\">\n",
       "      <th></th>\n",
       "      <th>name</th>\n",
       "      <th>address</th>\n",
       "      <th>geometry</th>\n",
       "      <th>phone_number</th>\n",
       "      <th>website</th>\n",
       "      <th>total_user_ratings</th>\n",
       "      <th>reviews</th>\n",
       "    </tr>\n",
       "  </thead>\n",
       "  <tbody>\n",
       "    <tr>\n",
       "      <th>31</th>\n",
       "      <td>Kana Sushi</td>\n",
       "      <td>7020 Old Keene Mill Rd, Springfield, VA 22150,...</td>\n",
       "      <td>{'lat': 38.7793617, 'lng': -77.18718659999999}</td>\n",
       "      <td>+1 703-569-3073</td>\n",
       "      <td>http://kana-sushi.com/</td>\n",
       "      <td>425.0</td>\n",
       "      <td>[{'author_name': 'Yerlan Jumabekov', 'author_u...</td>\n",
       "    </tr>\n",
       "  </tbody>\n",
       "</table>\n",
       "</div>"
      ],
      "text/plain": [
       "          name                                            address  \\\n",
       "31  Kana Sushi  7020 Old Keene Mill Rd, Springfield, VA 22150,...   \n",
       "\n",
       "                                          geometry     phone_number  \\\n",
       "31  {'lat': 38.7793617, 'lng': -77.18718659999999}  +1 703-569-3073   \n",
       "\n",
       "                   website  total_user_ratings  \\\n",
       "31  http://kana-sushi.com/               425.0   \n",
       "\n",
       "                                              reviews  \n",
       "31  [{'author_name': 'Yerlan Jumabekov', 'author_u...  "
      ]
     },
     "execution_count": 26,
     "metadata": {},
     "output_type": "execute_result"
    }
   ],
   "source": [
    "places_df[places_df['name']=='Kana Sushi']"
   ]
  },
  {
   "cell_type": "code",
   "execution_count": 42,
   "id": "48c94c01-381b-46f0-97ed-a326934bac42",
   "metadata": {},
   "outputs": [
    {
     "data": {
      "text/plain": [
       "38.7775425"
      ]
     },
     "execution_count": 42,
     "metadata": {},
     "output_type": "execute_result"
    }
   ],
   "source": [
    "ast.literal_eval(places_df['geometry'][0])['lat']"
   ]
  },
  {
   "cell_type": "code",
   "execution_count": 43,
   "id": "628a2381-0be9-45db-9e53-5fd4ef1d5b2c",
   "metadata": {},
   "outputs": [],
   "source": [
    "places_df['lat'] = places_df['geometry'].apply(lambda x: ast.literal_eval(x)['lat'])"
   ]
  },
  {
   "cell_type": "code",
   "execution_count": 44,
   "id": "25776815-91c8-4e84-bf49-6772843dc2eb",
   "metadata": {},
   "outputs": [],
   "source": [
    "places_df['lng'] = places_df['geometry'].apply(lambda x: ast.literal_eval(x)['lng'])"
   ]
  },
  {
   "cell_type": "code",
   "execution_count": 45,
   "id": "a34cbedc-e15d-4393-bf09-44f76b5bb83c",
   "metadata": {},
   "outputs": [],
   "source": [
    "# A function to extract reviews text for further nlp exploration\n",
    "def text_extract(txt_list):\n",
    "    text = ''\n",
    "    txt = ast.literal_eval(txt_list)\n",
    "    for each in txt:\n",
    "        text += each['text']\n",
    "    return text"
   ]
  },
  {
   "cell_type": "code",
   "execution_count": 46,
   "id": "6ecbed6b-c316-4582-99ef-27f67d5a4c64",
   "metadata": {},
   "outputs": [],
   "source": [
    "places_df['text_extract'] = places_df['reviews'].apply(text_extract)"
   ]
  },
  {
   "cell_type": "code",
   "execution_count": 47,
   "id": "5b99d69a-97f1-4574-8be4-b3619f884201",
   "metadata": {
    "tags": []
   },
   "outputs": [],
   "source": [
    "# Creating vegetarian Images dataframe\n",
    "images_df0 = pd.DataFrame({'image_path': vegetarian_images})"
   ]
  },
  {
   "cell_type": "code",
   "execution_count": 48,
   "id": "1eb38ae9-e590-4294-9134-efa774ee22b3",
   "metadata": {},
   "outputs": [
    {
     "data": {
      "text/plain": [
       "'Pho Ngon'"
      ]
     },
     "execution_count": 48,
     "metadata": {},
     "output_type": "execute_result"
    }
   ],
   "source": [
    "images_df0['image_path'][0].split('/')[2].split('+')[0]"
   ]
  },
  {
   "cell_type": "code",
   "execution_count": 49,
   "id": "1588ce64-048b-449c-aef5-4f4c5221fc9f",
   "metadata": {},
   "outputs": [],
   "source": [
    "# Adding restaurant name to images_df\n",
    "images_df0['name'] = images_df0['image_path'].apply(lambda x: x.split('/')[2].split('+')[0])"
   ]
  },
  {
   "cell_type": "code",
   "execution_count": 50,
   "id": "0b952e7b-c88f-4500-ad60-50bc4cbfed92",
   "metadata": {},
   "outputs": [],
   "source": [
    "# Merging places_df with images_df\n",
    "vegetarian_places = places_df.merge(images_df0, on='name')"
   ]
  },
  {
   "cell_type": "code",
   "execution_count": 51,
   "id": "da94b16e-2f37-43e5-9eb0-3f0e7081ef15",
   "metadata": {},
   "outputs": [],
   "source": [
    "# Cleaning geometry column\n",
    "vegetarian_places['geometry'] = vegetarian_places['geometry'].apply(lambda x: ast.literal_eval(x))"
   ]
  },
  {
   "cell_type": "code",
   "execution_count": 52,
   "id": "82975482-5614-46d5-a168-ba3294c1fb79",
   "metadata": {
    "tags": []
   },
   "outputs": [],
   "source": [
    "# Cleaning reviews column\n",
    "vegetarian_places['reviews'] = vegetarian_places['reviews'].apply(lambda x: ast.literal_eval(x))"
   ]
  },
  {
   "cell_type": "code",
   "execution_count": 53,
   "id": "1bcd033f-eac8-4a19-8e10-9efcea48ea0d",
   "metadata": {},
   "outputs": [],
   "source": [
    "def review_table(name):\n",
    "    \n",
    "    reviews_df = pd.DataFrame({'author':[],'rating':[],'time':[] ,'text':[]})\n",
    "    reviews_list = vegetarian_places[vegetarian_places['name']== name].reviews.iloc[0]\n",
    "    for each in reviews_list:\n",
    "        author = each['author_name']\n",
    "        rating = each['rating']\n",
    "        time = each['relative_time_description']\n",
    "        text = each['text']\n",
    "        reviews_df.loc[len(reviews_df)] = [author, rating, time, text]\n",
    "    \n",
    "    return reviews_df"
   ]
  },
  {
   "cell_type": "code",
   "execution_count": 54,
   "id": "042affe0-ab4f-4762-abb1-02931654a634",
   "metadata": {},
   "outputs": [],
   "source": [
    "# place_review = review_table('Yard House')"
   ]
  },
  {
   "cell_type": "code",
   "execution_count": 55,
   "id": "87a89a6f-9b02-4516-8a42-5e80d503d1e6",
   "metadata": {},
   "outputs": [],
   "source": [
    "# place_review"
   ]
  },
  {
   "cell_type": "code",
   "execution_count": 59,
   "id": "191d5372-26ea-4898-9c62-e0d6915f7a9d",
   "metadata": {},
   "outputs": [],
   "source": [
    "# Creating non_vegetarian Images dataframe\n",
    "images_df1 = pd.DataFrame({'image_path': non_vegetarian_images})"
   ]
  },
  {
   "cell_type": "code",
   "execution_count": 62,
   "id": "9bb6e556-24dc-42ed-b931-a25eb8c6bbdc",
   "metadata": {},
   "outputs": [],
   "source": [
    "images_df1['name'] = images_df1['image_path'].apply(lambda x: x.split('/')[2].split('+')[0])"
   ]
  },
  {
   "cell_type": "code",
   "execution_count": 64,
   "id": "a9a8bcc1-2080-47ed-b3de-e72c28c2bdd5",
   "metadata": {},
   "outputs": [],
   "source": [
    "# Creating places Images dataframe\n",
    "images_df2 = pd.DataFrame({'image_path': places_images})"
   ]
  },
  {
   "cell_type": "code",
   "execution_count": 65,
   "id": "ff85c2e6-bcfe-4393-8979-082ad1bf39f3",
   "metadata": {},
   "outputs": [],
   "source": [
    "images_df2['name'] = images_df2['image_path'].apply(lambda x: x.split('/')[2].split('+')[0])"
   ]
  }
 ],
 "metadata": {
  "kernelspec": {
   "display_name": "Python 3 (ipykernel)",
   "language": "python",
   "name": "python3"
  },
  "language_info": {
   "codemirror_mode": {
    "name": "ipython",
    "version": 3
   },
   "file_extension": ".py",
   "mimetype": "text/x-python",
   "name": "python",
   "nbconvert_exporter": "python",
   "pygments_lexer": "ipython3",
   "version": "3.9.7"
  }
 },
 "nbformat": 4,
 "nbformat_minor": 5
}
